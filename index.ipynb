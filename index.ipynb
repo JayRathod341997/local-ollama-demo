{
 "cells": [
  {
   "cell_type": "code",
   "execution_count": 1,
   "id": "cdba16be",
   "metadata": {},
   "outputs": [],
   "source": [
    "from langchain.llms import Ollama"
   ]
  },
  {
   "cell_type": "code",
   "execution_count": 7,
   "id": "923e34d6",
   "metadata": {},
   "outputs": [
    {
     "name": "stdout",
     "output_type": "stream",
     "text": [
      "The situation between India and Pakistan has been complex and tense for decades. Here's an overview:\n",
      "\n",
      "**Historical Background:**\n",
      "\n",
      "India and Pakistan have a long history of conflict, which dates back to the partition of British India in 1947. The subcontinent was divided into two separate countries: India (then known as Dominion of India) and Pakistan (comprising West Pakistan and East Pakistan). The partition led to one of the largest mass migrations in human history, with millions of people crossing borders.\n",
      "\n",
      "**Conflicts:**\n",
      "\n",
      "There have been several conflicts between India and Pakistan since independence:\n",
      "\n",
      "1. **First Kashmir War (1947-1949):** A war over the disputed region of Kashmir, which was a princely state at the time. India and Pakistan fought each other, with Pakistani tribesmen and irregular forces backed by regular Pakistani army units.\n",
      "2. **Bangladesh Liberation War (1971):** East Pakistan declared independence as Bangladesh, leading to a war between India and Pakistan. India supported the Bengali separatists, while Pakistan was defeated and lost a significant portion of its territory.\n",
      "3. **Siachen Glacier Dispute:** A territorial dispute over the Siachen Glacier region in Kashmir, which has been contested since 1984.\n",
      "4. **Kargil War (1999):** An attempted Pakistani incursion into Indian-controlled Kashmir, which India repelled with military force.\n",
      "5. **Pulwama Attack and Balakot Strike (2019):** A suicide bombing attack on an Indian paramilitary convoy in Pulwama, Jammu and Kashmir, which killed over 40 soldiers. In response, India launched airstrikes against alleged terrorist camps in Pakistan's Balakot region.\n",
      "\n",
      "**Current Situation:**\n",
      "\n",
      "The relationship between India and Pakistan remains tense, with ongoing issues:\n",
      "\n",
      "1. **Kashmir Dispute:** The issue of Kashmir remains unresolved, with both countries claiming the territory as their own.\n",
      "2. **Border Tensions:** Regular ceasefire violations along the Line of Control (LoC) and the International Border (IB) have resulted in casualties on both sides.\n",
      "3. **Terrorism:** Both countries accuse each other of supporting terrorist groups operating across the border, such as Lashkar-e-Taiba and Jaish-e-Mohammed in Pakistan, and Hizbul Mujahideen in India.\n",
      "4. **Trade and Diplomatic Ties:** Bilateral trade has suffered due to tensions, and diplomatic relations have been strained.\n",
      "\n",
      "**Efforts for Peace:**\n",
      "\n",
      "Despite the challenges, both countries have made efforts to normalize relations:\n",
      "\n",
      "1. **Composite Dialogue:** A dialogue process initiated in 2004 to address various issues, including terrorism, trade, and cultural exchanges.\n",
      "2. **Backchannel Diplomacy:** Ongoing secret talks between India and Pakistan's intelligence agencies to reduce tensions and prevent conflicts.\n",
      "\n",
      "**Challenges Ahead:**\n",
      "\n",
      "The situation between India and Pakistan remains complex, with many factors contributing to the ongoing tensions:\n",
      "\n",
      "1. **Political Instability:** Frequent changes in government and political turmoil on both sides can impact diplomatic efforts.\n",
      "2. **Military Buildups:** Both countries continue to strengthen their military capabilities, which can be perceived as a threat by the other side.\n",
      "3. **Nationalism and Identity:** Strong nationalist sentiments and identity issues, particularly in Kashmir, can make it difficult to find common ground.\n",
      "\n",
      "In conclusion, the situation between India and Pakistan is marked by ongoing tensions, conflicts, and unresolved disputes. While there have been efforts to normalize relations, the road ahead remains challenging due to deep-seated historical animosity and political complexities.\n"
     ]
    }
   ],
   "source": [
    "llm = Ollama(base_url='http://localhost:11434', model=\"llama3\", temperature=0.9)\n",
    "# print(llm(\"What is the capital of France?\"))\n",
    "print(llm(\"Situation between India and pakistan?\"))"
   ]
  },
  {
   "cell_type": "code",
   "execution_count": null,
   "id": "071ff7d7",
   "metadata": {},
   "outputs": [],
   "source": []
  }
 ],
 "metadata": {
  "kernelspec": {
   "display_name": "base",
   "language": "python",
   "name": "python3"
  },
  "language_info": {
   "codemirror_mode": {
    "name": "ipython",
    "version": 3
   },
   "file_extension": ".py",
   "mimetype": "text/x-python",
   "name": "python",
   "nbconvert_exporter": "python",
   "pygments_lexer": "ipython3",
   "version": "3.12.3"
  }
 },
 "nbformat": 4,
 "nbformat_minor": 5
}
